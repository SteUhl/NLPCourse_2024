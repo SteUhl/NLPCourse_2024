{
  "nbformat": 4,
  "nbformat_minor": 0,
  "metadata": {
    "colab": {
      "provenance": [],
      "include_colab_link": true
    },
    "kernelspec": {
      "name": "python3",
      "display_name": "Python 3"
    },
    "language_info": {
      "name": "python"
    }
  },
  "cells": [
    {
      "cell_type": "markdown",
      "metadata": {
        "id": "view-in-github",
        "colab_type": "text"
      },
      "source": [
        "<a href=\"https://colab.research.google.com/github/SteUhl/NLPCourse_2024/blob/main/Uhl_Kopie_Python_CrashCourse_1.ipynb\" target=\"_parent\"><img src=\"https://colab.research.google.com/assets/colab-badge.svg\" alt=\"Open In Colab\"/></a>"
      ]
    },
    {
      "cell_type": "markdown",
      "source": [
        "# Getting Started\n",
        "\n",
        "Created by Sarah Oberbichler [![ORCID](https://info.orcid.org/wp-content/uploads/2019/11/orcid_16x16.png)](https://orcid.org/0000-0002-1031-2759)\n"
      ],
      "metadata": {
        "id": "NH7ow5o9WcSw"
      }
    },
    {
      "cell_type": "markdown",
      "source": [
        "To run code, click the play button that appears when hovering over the left margin of the code cell, or use the keyboard shortcut Ctrl+Enter. The code will then execute, and its output will be displayed below the code cell. See also what happens, if you remove the quotation marks."
      ],
      "metadata": {
        "id": "QC0OpzlW1nRA"
      }
    },
    {
      "cell_type": "code",
      "source": [
        "print(\"Ready, set, GO!\")"
      ],
      "metadata": {
        "id": "BXz52tb-Ws-q",
        "colab": {
          "base_uri": "https://localhost:8080/"
        },
        "outputId": "f3aac3c3-61d8-4c1c-f62a-42612fafe943"
      },
      "execution_count": null,
      "outputs": [
        {
          "output_type": "stream",
          "name": "stdout",
          "text": [
            "Ready, set, GO!\n"
          ]
        }
      ]
    },
    {
      "cell_type": "markdown",
      "source": [
        "Let's do some simple math. Run the code to see how much 50 * 17 is. Try the same with plus, minus and fraction"
      ],
      "metadata": {
        "id": "MjXqAK-rcIlY"
      }
    },
    {
      "cell_type": "code",
      "source": [
        "50 * 17\n"
      ],
      "metadata": {
        "id": "Y6TBnFqfYW5O",
        "colab": {
          "base_uri": "https://localhost:8080/"
        },
        "outputId": "5cc1fd07-a2dd-4f93-893a-0f1df90fb8ee"
      },
      "execution_count": null,
      "outputs": [
        {
          "output_type": "execute_result",
          "data": {
            "text/plain": [
              "850"
            ]
          },
          "metadata": {},
          "execution_count": 5
        }
      ]
    },
    {
      "cell_type": "markdown",
      "source": [
        "#Variable Assignment\n",
        "\n",
        "A variable acts like a container or label for a piece of data, allowing you to easily access and manipulate that information later.\n",
        "\n",
        "When you connect a name to a specific piece of data, you can then use that name to retrieve the data or perform operations on it.\n",
        "\n",
        "To create a variable, use the = symbol. Put the name you want to give your data on the left side of the equals sign, and the actual data (or \"value\") on the right side.\n",
        "\n",
        "\n",
        "*chosen_name = data_or_value*\n",
        "\n",
        "This action doesn't produce any immediate visible result. Instead, it saves the connection between the name and the data in the computer's memory. You can then use this name throughout your coding session to refer back to that specific piece of data.\n",
        "\n",
        "\n",
        "\n",
        "\n"
      ],
      "metadata": {
        "id": "Wk9VQusadbbR"
      }
    },
    {
      "cell_type": "code",
      "source": [
        "# @markdown ##### Run the cell\n",
        "x = 2"
      ],
      "metadata": {
        "id": "1MgleKd3dHOC"
      },
      "execution_count": null,
      "outputs": []
    },
    {
      "cell_type": "code",
      "source": [
        "# @markdown ##### Now print x\n",
        "\n",
        "# add your code here below:\n",
        "print(x)\n"
      ],
      "metadata": {
        "id": "y-GFAs7EXK-l",
        "colab": {
          "base_uri": "https://localhost:8080/"
        },
        "outputId": "b220882c-85ea-429e-9bc8-7feeaa32dfc2"
      },
      "execution_count": null,
      "outputs": [
        {
          "output_type": "stream",
          "name": "stdout",
          "text": [
            "2\n"
          ]
        }
      ]
    },
    {
      "cell_type": "code",
      "source": [
        "# @markdown ##### Can you tell what happens here?\n",
        "print(x * 2)\n",
        "print(x == x)\n",
        "print(x > 6)"
      ],
      "metadata": {
        "id": "iFRbU1CgXXHs",
        "colab": {
          "base_uri": "https://localhost:8080/"
        },
        "outputId": "e6cb145b-bf38-4a00-b879-00c1e2b6d911"
      },
      "execution_count": null,
      "outputs": [
        {
          "output_type": "stream",
          "name": "stdout",
          "text": [
            "4\n",
            "True\n",
            "False\n"
          ]
        }
      ]
    },
    {
      "cell_type": "markdown",
      "source": [
        "You can use a variable to store any type of data. In our previous example, we stored text (known as a string) in a variable. It's important to remember that when working with text, you need to enclose it in quotation marks.\n",
        "\n",
        "The term 'variable' comes from the fact that their contents can change. You have the flexibility to update what's stored in a variable at any time. However, be cautious: if you use the same variable name again with a new value, it will replace the original data stored there."
      ],
      "metadata": {
        "id": "5pwzm6CgWRoI"
      }
    },
    {
      "cell_type": "code",
      "source": [
        "political_party = 'CDU'"
      ],
      "metadata": {
        "id": "XAprLw91WAEk"
      },
      "execution_count": null,
      "outputs": []
    },
    {
      "cell_type": "code",
      "source": [
        "political_party"
      ],
      "metadata": {
        "id": "pUaJy6K5WC3G",
        "colab": {
          "base_uri": "https://localhost:8080/",
          "height": 36
        },
        "outputId": "bae1ce69-2479-4159-be69-0e19944fb6cc"
      },
      "execution_count": null,
      "outputs": [
        {
          "output_type": "execute_result",
          "data": {
            "text/plain": [
              "'CDU'"
            ],
            "application/vnd.google.colaboratory.intrinsic+json": {
              "type": "string"
            }
          },
          "metadata": {},
          "execution_count": 14
        }
      ]
    },
    {
      "cell_type": "code",
      "source": [
        "#Let's add another political party:\n",
        "political_party = 'AFD'"
      ],
      "metadata": {
        "id": "-tzQvJB5WH-f"
      },
      "execution_count": null,
      "outputs": []
    },
    {
      "cell_type": "code",
      "source": [
        "political_party"
      ],
      "metadata": {
        "id": "ttMmrnm_WJxM",
        "colab": {
          "base_uri": "https://localhost:8080/",
          "height": 36
        },
        "outputId": "70372f8e-76bc-4136-8a52-ac8403600935"
      },
      "execution_count": null,
      "outputs": [
        {
          "output_type": "execute_result",
          "data": {
            "text/plain": [
              "'AFD'"
            ],
            "application/vnd.google.colaboratory.intrinsic+json": {
              "type": "string"
            }
          },
          "metadata": {},
          "execution_count": 16
        }
      ]
    },
    {
      "cell_type": "code",
      "source": [
        "# @markdown ##### **Exercise 1:** How could we solce this problem? How can we save both political parties?\n",
        "\n",
        "#add your code here below\n",
        "political_party1 = CDU\n",
        "political_party2 = AFD\n",
        "\n"
      ],
      "metadata": {
        "id": "h3DhyNmlXnoc"
      },
      "execution_count": null,
      "outputs": []
    },
    {
      "cell_type": "code",
      "source": [
        "# @markdown ##### **Exercise 2:** Write a simpple program that calculates how many minutes there are in seven weeks. Use variables for this exercise.\n",
        "\n",
        "minutes_per_hour = 60\n",
        "hours_per_day = 24\n",
        "days_per_week = 7\n",
        "amount_of_weeks = 7\n",
        "\n",
        "print(amount_of_weeks*days_per_week*hours_per_day*minutes_per_hour)\n",
        "\n",
        "\n"
      ],
      "metadata": {
        "id": "BngMw19pbVqI",
        "colab": {
          "base_uri": "https://localhost:8080/"
        },
        "outputId": "31dcf77f-4551-4518-d5d4-07635e424fa3"
      },
      "execution_count": null,
      "outputs": [
        {
          "output_type": "stream",
          "name": "stdout",
          "text": [
            "70560\n"
          ]
        }
      ]
    },
    {
      "cell_type": "markdown",
      "source": [
        "# String Manipulation\n",
        "Many disciplines within the humanities work on texts. Quite naturally programming for the humanities will focus a lot on manipulating texts. Strings can -  just as numbers - be added, or, more precisely, concatenated, together."
      ],
      "metadata": {
        "id": "hMqNG1pwgMO3"
      }
    },
    {
      "cell_type": "code",
      "source": [
        "# @markdown #####  Add your name to the variable \"my_name\" and run the code\n",
        "\n",
        "my_name = 'Steve'\n",
        "book = \"Man without Women\"\n",
        "author = 'Haruki Murakami'\n",
        "print(my_name + \" likes \" + book + \" by \" + author)\n",
        "\n",
        "\n"
      ],
      "metadata": {
        "id": "NZq6-lKVgurB",
        "outputId": "b8751648-c1f8-4c2a-9573-f6316520792c",
        "colab": {
          "base_uri": "https://localhost:8080/"
        }
      },
      "execution_count": 1,
      "outputs": [
        {
          "output_type": "stream",
          "name": "stdout",
          "text": [
            "Steve likes Man without Women by Haruki Murakami\n"
          ]
        }
      ]
    },
    {
      "cell_type": "code",
      "source": [
        "# @markdown ##### This string consists of a number of characters. We can access the individual characters with the help of indexing. For example, to find only the first letter of your name, you can type in [0]. Now try to find the second letter in your name:\n",
        "\n",
        "first_letter = my_name[0]\n",
        "print(first_letter)"
      ],
      "metadata": {
        "id": "BAnnmODxiEj4",
        "outputId": "ff62d64e-fd2e-47e2-bf85-79decf1151b9",
        "colab": {
          "base_uri": "https://localhost:8080/"
        }
      },
      "execution_count": 2,
      "outputs": [
        {
          "output_type": "stream",
          "name": "stdout",
          "text": [
            "S\n"
          ]
        }
      ]
    },
    {
      "cell_type": "code",
      "source": [
        "# @markdown ##### To find the last letter in your name, you might want to know how many letters your name has. We can do this with the function len(), which returns the length of a string:\n",
        "print(len(my_name))"
      ],
      "metadata": {
        "id": "vOtpFb9tiug8",
        "outputId": "54b30585-18eb-4639-8999-e103e657670d",
        "colab": {
          "base_uri": "https://localhost:8080/"
        }
      },
      "execution_count": 3,
      "outputs": [
        {
          "output_type": "stream",
          "name": "stdout",
          "text": [
            "5\n"
          ]
        }
      ]
    },
    {
      "cell_type": "code",
      "source": [
        "# @markdown ##### Can you explain what this code is doing?\n",
        "print(my_name[len(my_name)-1])"
      ],
      "metadata": {
        "id": "1eSonN1bjIkU",
        "outputId": "d1df5c68-f0d2-4153-f20c-bb1787cf691a",
        "colab": {
          "base_uri": "https://localhost:8080/"
        }
      },
      "execution_count": 4,
      "outputs": [
        {
          "output_type": "stream",
          "name": "stdout",
          "text": [
            "e\n"
          ]
        }
      ]
    },
    {
      "cell_type": "code",
      "source": [
        "# @markdown ##### Can you explain what this code is doing?\n",
        "first_two_letters = my_name[0:2]\n",
        "print(first_two_letters)"
      ],
      "metadata": {
        "id": "rxx2xi9tleiD",
        "outputId": "1104dae2-1ea6-4b92-95d6-60c4584fae0e",
        "colab": {
          "base_uri": "https://localhost:8080/"
        }
      },
      "execution_count": 32,
      "outputs": [
        {
          "output_type": "stream",
          "name": "stdout",
          "text": [
            "St\n"
          ]
        }
      ]
    },
    {
      "cell_type": "code",
      "source": [
        "# @markdown ##### **Exercise 3:** Given the following two words, can you write code that prints out the word humanities using only slicing and concatenation? (So, no quotes are allowed in your code.)\n",
        "\n",
        "word1 = \"human\"\n",
        "word2 = \"opportunities\"\n",
        "\n",
        "# insert your code here\n",
        "print(word1 + word2[8:13])"
      ],
      "metadata": {
        "id": "KEg-uShKjs5j",
        "outputId": "3fecab40-18df-4139-c1c6-211010527f2b",
        "colab": {
          "base_uri": "https://localhost:8080/"
        }
      },
      "execution_count": 37,
      "outputs": [
        {
          "output_type": "stream",
          "name": "stdout",
          "text": [
            "humanities\n"
          ]
        }
      ]
    },
    {
      "cell_type": "markdown",
      "source": [
        "\n",
        "# Lists\n",
        "\n",
        "\n",
        ">**List:** An ordered, changeable collection of values.\n",
        "\n",
        "Lists are denoted by **square brackets [ ]**, and its elements are separated by commas. Any object type could be a value within a list, including other lists or collections of objects (putting a list within a list is called nesting).\n",
        "\n",
        "## Example\n",
        "\n",
        "You love traveling to different continents. Perhaps you want to write a piece of code to announce your passion.\n",
        "\n",
        "First, let's describe everything we want the code to do. We could:\n",
        "\n",
        "1. Create a list of seven continents, including 'Asia', 'Africa', 'North America', 'South America', 'Antarctica', 'Europe', 'Australia'\n",
        "\n",
        "2. For each contintent in the list,\n",
        "    print \"This continent is one of the seven continents\",\n",
        "    and then print \"I love this continent\".\n",
        "    \n",
        "3. When done with all continents, print \"But aren't there only six continents?\"\n",
        "\n",
        "That is what the code below does. You might not fully be aware of the details of the structure, but you can begin to read it:"
      ],
      "metadata": {
        "id": "GhYFQ1noU-5w"
      }
    },
    {
      "cell_type": "code",
      "source": [
        "SevenContinents = ['Asia', 'Africa', 'North America', 'South America', 'Antarctica', 'Europe', 'Australia']\n",
        "\n",
        "for continent in SevenContinents:\n",
        "    print(continent, \"is one of the seven continents\")\n",
        "    print(\"I love\", continent)\n",
        "print(\"But aren't there only six continents?\")\n",
        "\n",
        "#(Run me!)"
      ],
      "metadata": {
        "id": "Vi4x6CIHU06p",
        "outputId": "a1f4b492-b7f7-4e06-bba4-8a6ab96efedb",
        "colab": {
          "base_uri": "https://localhost:8080/"
        }
      },
      "execution_count": 38,
      "outputs": [
        {
          "output_type": "stream",
          "name": "stdout",
          "text": [
            "Asia is one of the seven continents\n",
            "I love Asia\n",
            "Africa is one of the seven continents\n",
            "I love Africa\n",
            "North America is one of the seven continents\n",
            "I love North America\n",
            "South America is one of the seven continents\n",
            "I love South America\n",
            "Antarctica is one of the seven continents\n",
            "I love Antarctica\n",
            "Europe is one of the seven continents\n",
            "I love Europe\n",
            "Australia is one of the seven continents\n",
            "I love Australia\n",
            "But aren't there only six continents?\n"
          ]
        }
      ]
    },
    {
      "cell_type": "markdown",
      "source": [
        "This code also uses a **for loop**.\n",
        "Python provides the so-called for-statements that allow us to iterate through any iterable object and perform actions on its elements."
      ],
      "metadata": {
        "id": "J9a9qpUraMQB"
      }
    },
    {
      "cell_type": "code",
      "source": [
        "# @markdown ##### **Exercise 4:** Now let's use the above example to list South Africa's so called *Big Five*. Find out what animals are part of the Big Five and adapt the code to this new example. Then ask, why the hippo is not part of the Big Five.\n",
        "\n",
        "# add your code here below:\n",
        "\n",
        "BigFive = ['Jaguar','Anaconda','Giant Otter','Ant Eater','Andean Bear']\n",
        "\n",
        "for animal in BigFive:\n",
        "    print(animal, \"is one of the Big Five\")\n",
        "    print(\"I love the\", animal)\n",
        "print(\"But why isn't the Hippo part of the Big Five?\")\n"
      ],
      "metadata": {
        "id": "Z1E4J5r9Ycq2",
        "outputId": "b02dae15-4c33-43e8-912f-fb8bc05c754d",
        "colab": {
          "base_uri": "https://localhost:8080/"
        }
      },
      "execution_count": 40,
      "outputs": [
        {
          "output_type": "stream",
          "name": "stdout",
          "text": [
            "Jaguar is one of the Big Five\n",
            "I love the Jaguar\n",
            "Anaconda is one of the Big Five\n",
            "I love the Anaconda\n",
            "Giant Otter is one of the Big Five\n",
            "I love the Giant Otter\n",
            "Ant Eater is one of the Big Five\n",
            "I love the Ant Eater\n",
            "Andean Bear is one of the Big Five\n",
            "I love the Andean Bear\n",
            "But why isn't the Hippo part of the Big Five?\n"
          ]
        }
      ]
    },
    {
      "cell_type": "markdown",
      "source": [
        "## Let's add the \"if, else\" combination\n",
        "\n",
        "Run the example and try to understand what this code is doing"
      ],
      "metadata": {
        "id": "SB9shIOLX0X-"
      }
    },
    {
      "cell_type": "code",
      "source": [
        "good_reads = [\"The Hunger games\", \"A Clockwork Orange\",\n",
        "              \"Pride and Prejudice\", \"Water for Elephants\",\n",
        "              \"The Shadow of the Wind\", \"Bel Canto\"]\n",
        "\n",
        "book = \"A Clockwork Orange\"\n",
        "if book in good_reads:\n",
        "    print(book + \" is in the collection\")\n",
        "    print(\"A lot more\")\n",
        "    print(\"Still more to come\")\n",
        "else:\n",
        "    print(book + \" is NOT in the collection\")\n",
        "\n",
        "#run me"
      ],
      "metadata": {
        "id": "Rj2WAT-BarYm",
        "colab": {
          "base_uri": "https://localhost:8080/"
        },
        "outputId": "0f0d47c0-13f3-435a-fa19-c68db652d9aa"
      },
      "execution_count": 41,
      "outputs": [
        {
          "output_type": "stream",
          "name": "stdout",
          "text": [
            "A Clockwork Orange is in the collection\n",
            "A lot more\n",
            "Still more to come\n"
          ]
        }
      ]
    },
    {
      "cell_type": "markdown",
      "source": [
        "#### Exercise 6\n"
      ],
      "metadata": {
        "id": "BkOryi5E-E-b"
      }
    },
    {
      "cell_type": "code",
      "source": [
        "# @markdown ##### 1. Create a list of German political parties\n",
        "\n",
        "# add you code here below\n",
        "german_political_parties = ['CDU','SPD','AFD','BSW','FPD','Die Grüne','Die Linke']\n",
        "\n",
        "\n"
      ],
      "metadata": {
        "id": "0om4An3eWlyk"
      },
      "execution_count": 42,
      "outputs": []
    },
    {
      "cell_type": "code",
      "source": [
        "# @markdown ##### 2. Now check that your code created that variable by typing the variable name (and running the code cell).\n",
        "\n",
        "#add your code here below\n",
        "for party in german_political_parties:\n",
        "  print(party )"
      ],
      "metadata": {
        "id": "b3vb3VQkXHoD",
        "outputId": "37d0a6b4-4e47-46e0-a72c-41ee25dc6779",
        "colab": {
          "base_uri": "https://localhost:8080/"
        }
      },
      "execution_count": 44,
      "outputs": [
        {
          "output_type": "stream",
          "name": "stdout",
          "text": [
            "CDU\n",
            "SPD\n",
            "AFD\n",
            "BSW\n",
            "FPD\n",
            "Die Grüne\n",
            "Die Linke\n"
          ]
        }
      ]
    },
    {
      "cell_type": "code",
      "source": [
        "# @markdown ##### 3. Now add: For each party, print ('I will vote for this party')\n",
        "\n",
        "#add your code here below\n",
        "for party in german_political_parties:\n",
        "    print(party)\n",
        "    print(\"I will vote for this Party\")"
      ],
      "metadata": {
        "id": "pHRlVE6AZvzK",
        "outputId": "69d11409-3fa4-4173-d008-d46d2930e6b5",
        "colab": {
          "base_uri": "https://localhost:8080/"
        }
      },
      "execution_count": 46,
      "outputs": [
        {
          "output_type": "stream",
          "name": "stdout",
          "text": [
            "CDU\n",
            "I will vote for this Party\n",
            "SPD\n",
            "I will vote for this Party\n",
            "AFD\n",
            "I will vote for this Party\n",
            "BSW\n",
            "I will vote for this Party\n",
            "FPD\n",
            "I will vote for this Party\n",
            "Die Grüne\n",
            "I will vote for this Party\n",
            "Die Linke\n",
            "I will vote for this Party\n"
          ]
        }
      ]
    },
    {
      "cell_type": "code",
      "source": [
        "# @markdown ##### 3. Let's assume we would not like to vote for each party. Create a pogram that says 'I will not vote for *name a party*. For the other parties, write \"I will consider voting\".\n",
        "\n",
        "#add your code here\n",
        "vote_yes = \"Die Grüne\"\n",
        "vote_no = \"AFD\" and \"CDU\" and \"SPD\" and \"BSW\" and \"Die Linke\"\n",
        "for party in german_political_parties:\n",
        "    print(party)\n",
        "    if party == vote_yes:\n",
        "      print(\"I will vote for this Party\")\n",
        "    else :\n",
        "      print(\"I will not vote for this party\")\n"
      ],
      "metadata": {
        "id": "XFK6Pw5jeKLL",
        "outputId": "08790234-eb8f-4248-d81c-172b80269eef",
        "colab": {
          "base_uri": "https://localhost:8080/"
        }
      },
      "execution_count": 53,
      "outputs": [
        {
          "output_type": "stream",
          "name": "stdout",
          "text": [
            "CDU\n",
            "I will not vote for this party\n",
            "SPD\n",
            "I will not vote for this party\n",
            "AFD\n",
            "I will not vote for this party\n",
            "BSW\n",
            "I will not vote for this party\n",
            "FPD\n",
            "I will not vote for this party\n",
            "Die Grüne\n",
            "I will vote for this Party\n",
            "Die Linke\n",
            "I will not vote for this party\n"
          ]
        }
      ]
    },
    {
      "cell_type": "markdown",
      "source": [
        "## Creating lists from text\n",
        "\n",
        "We can also create a list of the words from a sentence. For this, we use the split() function, which will split each word into a single unit."
      ],
      "metadata": {
        "id": "LeA0bv1sqeev"
      }
    },
    {
      "cell_type": "code",
      "source": [
        "sentence = \"Bleiburg, 14. April. (Erdbeben.) Um 11 Uhr \\\n",
        "15 Minuten nachts wurde ein unheim­ liches Erdbeben mit schauerlichem unterirdischem\\\n",
        "Brausen und Getöse vernommen.\"\n",
        "\n",
        "sentence.split()"
      ],
      "metadata": {
        "id": "jxY5OAftq1D6"
      },
      "execution_count": null,
      "outputs": []
    },
    {
      "cell_type": "markdown",
      "source": [
        "We can further add new items to a list. Let's start with an empty list this time and add two words from the splitted words above. To add items to a list, we use the append() function."
      ],
      "metadata": {
        "id": "Ns1FLYues9g-"
      }
    },
    {
      "cell_type": "code",
      "source": [
        "list = []\n",
        "list.append('Getöse')\n",
        "list.append('Erdbeben')\n",
        "list"
      ],
      "metadata": {
        "id": "fHQwRx4Xs72S"
      },
      "execution_count": null,
      "outputs": []
    }
  ]
}